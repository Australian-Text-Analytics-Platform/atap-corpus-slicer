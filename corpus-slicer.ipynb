{
 "cells": [
  {
   "cell_type": "code",
   "id": "211e4f4f793dece9",
   "metadata": {},
   "source": "from atap_corpus_slicer import CorpusSlicer",
   "outputs": [],
   "execution_count": null
  },
  {
   "cell_type": "code",
   "id": "3b44834c5c6ecdde",
   "metadata": {},
   "source": [
    "corpus_slicer: CorpusSlicer = CorpusSlicer()\n",
    "corpus_slicer"
   ],
   "outputs": [],
   "execution_count": null
  }
 ],
 "metadata": {
  "kernelspec": {
   "display_name": "slicer",
   "language": "python",
   "name": "slicer"
  },
  "language_info": {
   "codemirror_mode": {
    "name": "ipython",
    "version": 3
   },
   "file_extension": ".py",
   "mimetype": "text/x-python",
   "name": "python",
   "nbconvert_exporter": "python",
   "pygments_lexer": "ipython3",
   "version": "3.11.8"
  }
 },
 "nbformat": 4,
 "nbformat_minor": 5
}
