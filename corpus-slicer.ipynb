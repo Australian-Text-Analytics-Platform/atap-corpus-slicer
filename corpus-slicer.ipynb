{
 "cells": [
  {
   "cell_type": "code",
   "id": "initial_id",
   "metadata": {},
   "source": [
    "from atap_corpus_slicer import CorpusSlicer\n",
    "\n",
    "corpus_slicer: CorpusSlicer = CorpusSlicer(root_directory=\"./corpus_data\", run_logger=True)\n",
    "corpus_slicer"
   ],
   "outputs": [],
   "execution_count": null
  }
 ],
 "metadata": {
  "kernelspec": {
   "display_name": "slicer",
   "language": "python",
   "name": "slicer"
  },
  "language_info": {
   "codemirror_mode": {
    "name": "ipython",
    "version": 3
   },
   "file_extension": ".py",
   "mimetype": "text/x-python",
   "name": "python",
   "nbconvert_exporter": "python",
   "pygments_lexer": "ipython3",
   "version": "3.11.8"
  }
 },
 "nbformat": 4,
 "nbformat_minor": 5
}
