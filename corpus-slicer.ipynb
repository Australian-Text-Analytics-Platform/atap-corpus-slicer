{
 "cells": [
  {
   "cell_type": "code",
   "id": "initial_id",
   "metadata": {},
   "source": [
    "import spacy\n",
    "\n",
    "from atap_corpus_slicer import CorpusSlicer\n",
    "from atap_corpus_loader import EventType\n",
    "\n",
    "NLP = spacy.load(\"en_core_web_sm\")\n",
    "def corpus_run_spacy(corpus):\n",
    "    corpus.run_spacy(NLP)\n",
    "\n",
    "corpus_slicer: CorpusSlicer = CorpusSlicer(root_directory=\"./corpus_data\", run_logger=True)\n",
    "corpus_slicer.corpus_loader.register_event_callback(EventType.BUILD, corpus_run_spacy)\n",
    "corpus_slicer.corpus_loader.register_event_callback(EventType.BUILD, corpus_slicer.on_corpora_update)\n",
    "\n",
    "corpus_slicer"
   ],
   "outputs": [],
   "execution_count": null
  }
 ],
 "metadata": {
  "kernelspec": {
   "display_name": "slicer",
   "language": "python",
   "name": "slicer"
  },
  "language_info": {
   "codemirror_mode": {
    "name": "ipython",
    "version": 3
   },
   "file_extension": ".py",
   "mimetype": "text/x-python",
   "name": "python",
   "nbconvert_exporter": "python",
   "pygments_lexer": "ipython3",
   "version": "3.11.8"
  }
 },
 "nbformat": 4,
 "nbformat_minor": 5
}
